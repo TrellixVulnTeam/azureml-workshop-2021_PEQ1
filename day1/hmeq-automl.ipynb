{
  "cells": [
    {
      "cell_type": "markdown",
      "source": [
        "# 自動機械学習 AutoML による与信管理モデル\n",
        "過去の融資履歴データを用いて、ローンの履行/不履行を予測する与信管理モデルを構築します。\n",
        "\n",
        "<img src=\"https://azurecomcdn.azureedge.net/cvt-233147754f3cbba3c733e98527f90b7173b78e5c437a095e31cb4f5ec7d35283/images/page/services/machine-learning/automatedml/learning-models.gif?637587687582664499\">\n",
        "\n",
        "※ 製品ドキュメント\n",
        "- [Python で自動 ML の実験を構成する](https://docs.microsoft.com/ja-jp/azure/machine-learning/how-to-configure-auto-train)\n",
        "- [解釈可能性: 自動機械学習のモデルの説明 (プレビュー)](https://docs.microsoft.com/ja-JP/azure/machine-learning/how-to-machine-learning-interpretability-automl)"
      ],
      "metadata": {
        "nteract": {
          "transient": {
            "deleting": false
          }
        }
      },
      "id": "735bfc4d-e158-4f36-86d2-d56aa1bb3eda"
    },
    {
      "cell_type": "markdown",
      "source": [
        "## 0. 確認事項\n",
        "- [ ]  カーネル : `Python 3.6 - Azure ML` が選択されていること\n",
        "- [ ]  Dataset : hmeq の dataset が Azure ML studio から登録済みであること"
      ],
      "metadata": {
        "nteract": {
          "transient": {
            "deleting": false
          }
        }
      },
      "id": "7cc9f39a-23d4-4e8b-b2bf-7c38768d6679"
    },
    {
      "cell_type": "markdown",
      "source": [
        "## 1. 事前準備\n",
        "### Azure ML Python SDK のインポート\n",
        "Azure Machine Learning の Python SDKをインポートします"
      ],
      "metadata": {
        "nteract": {
          "transient": {
            "deleting": false
          }
        }
      },
      "id": "1b642cd9-fabe-4d14-b96d-39e18d25ec30"
    },
    {
      "cell_type": "code",
      "source": [
        "from azureml.core import Workspace, Experiment, Dataset"
      ],
      "outputs": [],
      "execution_count": null,
      "metadata": {
        "gather": {
          "logged": 1623172028028
        }
      },
      "id": "fb1eb1cc"
    },
    {
      "cell_type": "code",
      "source": [
        "import azureml\n",
        "print(azureml.core.VERSION)"
      ],
      "outputs": [],
      "execution_count": null,
      "metadata": {
        "gather": {
          "logged": 1623172028279
        },
        "jupyter": {
          "outputs_hidden": false,
          "source_hidden": false
        },
        "nteract": {
          "transient": {
            "deleting": false
          }
        }
      },
      "id": "b1663f05-08cc-4565-abd3-625e0d939cbb"
    },
    {
      "cell_type": "markdown",
      "source": [
        "### Azure ML Workspace との接続\n",
        "Azure Machine Learning との接続を行います。Azure Active Directory の認証が必要です。"
      ],
      "metadata": {
        "nteract": {
          "transient": {
            "deleting": false
          }
        }
      },
      "id": "83d5a77b-0980-4d98-9125-33f6810770c6"
    },
    {
      "cell_type": "code",
      "source": [
        "ws = Workspace.from_config()"
      ],
      "outputs": [],
      "execution_count": null,
      "metadata": {
        "gather": {
          "logged": 1623172029204
        }
      },
      "id": "f5ffff1d"
    },
    {
      "cell_type": "markdown",
      "source": [
        "### 実験名の設定\n",
        "実験 Experiment\u0010の機能はメトリックやログファイルなどを管理します。"
      ],
      "metadata": {
        "nteract": {
          "transient": {
            "deleting": false
          }
        }
      },
      "id": "862f3605-784b-4005-bfa9-79b0ae0d44ce"
    },
    {
      "cell_type": "code",
      "source": [
        "experiment_name = 'automl-hmeq-python'\n",
        "experiment = Experiment(ws, experiment_name)"
      ],
      "outputs": [],
      "execution_count": null,
      "metadata": {
        "gather": {
          "logged": 1623172029494
        }
      },
      "id": "1d5129d9"
    },
    {
      "cell_type": "markdown",
      "source": [
        "### 学習データの準備\n",
        "Azure Machine Learning の Compute Cluster 上でモデル学習をするために、Azure Machine Learning Dataset の形式でデータを定義します。<br>\n"
      ],
      "metadata": {
        "nteract": {
          "transient": {
            "deleting": false
          }
        }
      },
      "id": "25574322-7c03-4870-936d-f65c877bed08"
    },
    {
      "cell_type": "code",
      "source": [
        "titanic_ds = Dataset.get_by_name(ws, name='hmeq', version=4)\n",
        "titanic_df = titanic_ds.to_pandas_dataframe() # Azure ML Dataset -> Pandas DataFrame"
      ],
      "outputs": [],
      "execution_count": null,
      "metadata": {
        "gather": {
          "logged": 1623172034500
        }
      },
      "id": "441f4175"
    },
    {
      "cell_type": "markdown",
      "source": [
        "列名が正常に表示されていることを確認します。<br>\n",
        "※ 列名が一番上に表示されない場合、Azure ML studio から Dataset を登録する際、列見出しを **最初のファイルのみにヘッダーがある** を選択して再度 Dataset を登録します。"
      ],
      "metadata": {},
      "id": "d419028a"
    },
    {
      "cell_type": "code",
      "source": [
        "titanic_df.head()"
      ],
      "outputs": [],
      "execution_count": null,
      "metadata": {
        "gather": {
          "logged": 1623172034811
        }
      },
      "id": "fdefa725"
    },
    {
      "cell_type": "markdown",
      "source": [
        "### 学習データとテストデータ (モデル解釈用) に分割\n",
        "95% のデータをモデル学習に利用します。自動機械学習では交差検証 (クロスバリデーション) が実行されます。"
      ],
      "metadata": {
        "nteract": {
          "transient": {
            "deleting": false
          }
        }
      },
      "id": "a0ed94e2-63da-4195-9640-be0272f9bd3e"
    },
    {
      "cell_type": "code",
      "source": [
        "train_dataset, test_dataset = titanic_ds.random_split(0.95, seed=12345)"
      ],
      "outputs": [],
      "execution_count": null,
      "metadata": {
        "gather": {
          "logged": 1623172034963
        }
      },
      "id": "0a16653b"
    },
    {
      "cell_type": "markdown",
      "source": [
        "### 計算環境 Compute Cluster の設定\n",
        "Azure Machine Learning は高速にモデル学習を高速に回す計算環境 Machine Learning Compute が利用できます。"
      ],
      "metadata": {
        "nteract": {
          "transient": {
            "deleting": false
          }
        }
      },
      "id": "0967a7b2-0285-4396-8198-a4dcbcff18c5"
    },
    {
      "cell_type": "code",
      "source": [
        "from azureml.core import ComputeTarget\n",
        "compute_target = ComputeTarget(ws, 'cpuvnet-clusters')"
      ],
      "outputs": [],
      "execution_count": null,
      "metadata": {
        "gather": {
          "logged": 1623172035172
        }
      },
      "id": "3cb7f7b2"
    },
    {
      "cell_type": "markdown",
      "source": [
        "## 2. 自動機械学習 AutoML\n",
        "### 事前設定\n",
        "自動機械学習の事前設定を行います。AutoMLConfig で事前設定をします。\u001b"
      ],
      "metadata": {
        "nteract": {
          "transient": {
            "deleting": false
          }
        }
      },
      "id": "9ba52e9c-22ef-4b38-b265-44ef878a147e"
    },
    {
      "cell_type": "code",
      "source": [
        "from azureml.train.automl import AutoMLConfig\n",
        "from azureml.automl.core.featurization import FeaturizationConfig"
      ],
      "outputs": [],
      "execution_count": null,
      "metadata": {
        "gather": {
          "logged": 1623172035366
        }
      },
      "id": "0fb89c75"
    },
    {
      "cell_type": "code",
      "source": [
        "titanic_df.columns"
      ],
      "outputs": [],
      "execution_count": null,
      "metadata": {},
      "id": "cca98899"
    },
    {
      "cell_type": "code",
      "source": [
        "num_columns = ['融資依頼金額', '未払担保金額', '現在資産価値', '勤務年数','信用調査会社問い合わせ数', '延滞トレードライン数', '最も古いトレードラインの月齢', '最近のクレジットの問い合わせ数','トレードラインの数', '債務対所得の割合']\n",
        "featurization_config = FeaturizationConfig()\n",
        "for col in num_columns:\n",
        "    featurization_config.add_column_purpose(col, 'Numeric')"
      ],
      "outputs": [],
      "execution_count": null,
      "metadata": {},
      "id": "06d7c3f0"
    },
    {
      "cell_type": "code",
      "source": [
        "label = \"不履行フラグ\"\n",
        "\n",
        "automl_settings = {\n",
        "    \"iteration_timeout_minutes\": 5, # 各試行の最大実験時間\n",
        "    \"iterations\": 5,  # 試行する機械学習パイプラインの数\n",
        "    \"n_cross_validations\": 5,\n",
        "    \"primary_metric\": 'accuracy', # 精度指標\n",
        "}\n",
        "\n",
        "automl_config = AutoMLConfig(task = 'classification', # regression, forecasting\n",
        "                             training_data = train_dataset,\n",
        "                             label_column_name = label,                             \n",
        "                             compute_target=compute_target,\n",
        "                             featurization=featurization_config,\n",
        "                             **automl_settings\n",
        "                            )"
      ],
      "outputs": [],
      "execution_count": null,
      "metadata": {
        "gather": {
          "logged": 1623172035638
        }
      },
      "id": "77a4b90a"
    },
    {
      "cell_type": "code",
      "source": [
        "remote_run = experiment.submit(automl_config, show_output = True)"
      ],
      "outputs": [],
      "execution_count": null,
      "metadata": {
        "gather": {
          "logged": 1623172515243
        }
      },
      "id": "d446bd73"
    },
    {
      "cell_type": "markdown",
      "source": [
        "### 結果確認\n",
        "Notebook で利用できる Widget で実験の様子を確認します。"
      ],
      "metadata": {
        "nteract": {
          "transient": {
            "deleting": false
          }
        }
      },
      "id": "558cf737-a908-4205-8cff-45bef3b539a2"
    },
    {
      "cell_type": "code",
      "source": [
        "# Widget で結果確認\n",
        "from azureml.widgets import RunDetails\n",
        "RunDetails(remote_run).show()"
      ],
      "outputs": [],
      "execution_count": null,
      "metadata": {
        "gather": {
          "logged": 1623172515588
        }
      },
      "id": "f73cce96"
    },
    {
      "cell_type": "code",
      "source": [
        "best_run, fitted_model = remote_run.get_output()\n",
        "best_run"
      ],
      "outputs": [],
      "execution_count": null,
      "metadata": {
        "gather": {
          "logged": 1623172519124
        }
      },
      "id": "3143399f"
    },
    {
      "cell_type": "markdown",
      "source": [
        "## 3. モデル解釈\n",
        "オープンソースの InterpretML を利用したモデル解釈機能です。Azure Machine Learning の自動機械学習 AutoML が開発されたモデルの解釈も可能です。"
      ],
      "metadata": {},
      "id": "5ca4ea23"
    },
    {
      "cell_type": "markdown",
      "source": [
        "### Explainer の作成\n",
        "AutoML で開発されたモデルは Azure ML Python SDK を利用して Explainer を生成します。"
      ],
      "metadata": {
        "nteract": {
          "transient": {
            "deleting": false
          }
        }
      },
      "id": "9ee9e21c-23f1-4534-8e26-cc4920ead8ec"
    },
    {
      "cell_type": "code",
      "source": [
        "# Pandas Dataframe に変換\n",
        "train_df = train_dataset.to_pandas_dataframe()\n",
        "test_df = test_dataset.to_pandas_dataframe()"
      ],
      "outputs": [],
      "execution_count": null,
      "metadata": {
        "gather": {
          "logged": 1623172521617
        }
      },
      "id": "25a9808a"
    },
    {
      "cell_type": "code",
      "source": [
        "from azureml.train.automl.runtime.automl_explain_utilities import automl_setup_model_explanations\n",
        "\n",
        "automl_explainer_setup_obj = automl_setup_model_explanations(fitted_model, \n",
        "                                                             X=train_df.drop([label], axis=1), \n",
        "                                                             X_test=test_df.drop([label], axis=1), \n",
        "                                                             y=train_df[label].values, \n",
        "                                                             task='classification')"
      ],
      "outputs": [],
      "execution_count": null,
      "metadata": {
        "gather": {
          "logged": 1623172522247
        }
      },
      "id": "4218d232"
    },
    {
      "cell_type": "code",
      "source": [
        "from azureml.interpret import MimicWrapper\n",
        "\n",
        "# Initialize the Mimic Explainer\n",
        "explainer = MimicWrapper(ws, automl_explainer_setup_obj.automl_estimator,\n",
        "                         explainable_model=automl_explainer_setup_obj.surrogate_model, \n",
        "                         init_dataset=automl_explainer_setup_obj.X_transform, run=best_run,\n",
        "                         features=automl_explainer_setup_obj.engineered_feature_names, \n",
        "                         feature_maps=[automl_explainer_setup_obj.feature_map],\n",
        "                         classes=automl_explainer_setup_obj.classes,\n",
        "                         explainer_kwargs=automl_explainer_setup_obj.surrogate_model_params)"
      ],
      "outputs": [],
      "execution_count": null,
      "metadata": {
        "gather": {
          "logged": 1623172522397
        }
      },
      "id": "94f2ff3a"
    },
    {
      "cell_type": "markdown",
      "source": [
        "### Engineered Explanation\n",
        "特徴量エンジニアリングで生成された変数を用いたモデル解釈を行います。"
      ],
      "metadata": {
        "nteract": {
          "transient": {
            "deleting": false
          }
        }
      },
      "id": "7e9aecae-2155-4136-865f-6a332cd484c8"
    },
    {
      "cell_type": "code",
      "source": [
        "# Compute the engineered explanations\n",
        "engineered_explanations = explainer.explain(['local', 'global'],get_raw=False,\n",
        "                                            eval_dataset=automl_explainer_setup_obj.X_test_transform)"
      ],
      "outputs": [],
      "execution_count": null,
      "metadata": {
        "gather": {
          "logged": 1623172530636
        }
      },
      "id": "d79a8a27"
    },
    {
      "cell_type": "code",
      "source": [
        "# ダッシュボードの表示\n",
        "from interpret_community.widget import ExplanationDashboard\n",
        "ExplanationDashboard(engineered_explanations, \n",
        "                     automl_explainer_setup_obj.automl_estimator, \n",
        "                     datasetX=automl_explainer_setup_obj.X_test_transform)"
      ],
      "outputs": [],
      "execution_count": null,
      "metadata": {
        "gather": {
          "logged": 1623172533575
        }
      },
      "id": "10274d21"
    },
    {
      "cell_type": "markdown",
      "source": [
        "### Raw Explanation\n",
        "特徴量エンジニアリング前の変数を用いたモデル解釈を行います。"
      ],
      "metadata": {
        "nteract": {
          "transient": {
            "deleting": false
          }
        }
      },
      "id": "4a1b2413-3bb5-47f1-87fa-f6481473b934"
    },
    {
      "cell_type": "code",
      "source": [
        "raw_explanations = explainer.explain(['local', 'global'], get_raw=True, \n",
        "                                     raw_feature_names=automl_explainer_setup_obj.raw_feature_names,\n",
        "                                     eval_dataset=automl_explainer_setup_obj.X_test_transform)"
      ],
      "outputs": [],
      "execution_count": null,
      "metadata": {
        "gather": {
          "logged": 1623172535743
        }
      },
      "id": "ce7f21f3"
    },
    {
      "cell_type": "code",
      "source": [
        "# ダッシュボードの表示\n",
        "from interpret_community.widget import ExplanationDashboard\n",
        "ExplanationDashboard(raw_explanations, \n",
        "                     automl_explainer_setup_obj.automl_pipeline, \n",
        "                     datasetX=automl_explainer_setup_obj.X_test_raw)"
      ],
      "outputs": [],
      "execution_count": null,
      "metadata": {
        "gather": {
          "logged": 1623172536907
        }
      },
      "id": "7c83d57f"
    },
    {
      "cell_type": "markdown",
      "source": [
        "#### Responsible-AI-Widgets による可視化\n",
        "最新のライブラリでは [microsoft/responsible-ai-widgets](https://github.com/microsoft/responsible-ai-widgets) で可視化を行います。"
      ],
      "metadata": {
        "nteract": {
          "transient": {
            "deleting": false
          }
        }
      },
      "id": "3ab41149-699e-4da8-af7b-57e37e185bb9"
    },
    {
      "cell_type": "code",
      "source": [
        "from raiwidgets import ExplanationDashboard\n",
        "\n",
        "ExplanationDashboard(raw_explanations, \n",
        "                     automl_explainer_setup_obj.automl_pipeline, \n",
        "                     dataset=automl_explainer_setup_obj.X_test_raw)"
      ],
      "outputs": [],
      "execution_count": null,
      "metadata": {
        "gather": {
          "logged": 1623172539220
        }
      },
      "id": "850ecc2e"
    },
    {
      "cell_type": "code",
      "source": [],
      "outputs": [],
      "execution_count": null,
      "metadata": {},
      "id": "d5354f48"
    },
    {
      "cell_type": "code",
      "source": [],
      "outputs": [],
      "execution_count": null,
      "metadata": {},
      "id": "be6ed835"
    }
  ],
  "metadata": {
    "kernel_info": {
      "name": "python3-azureml"
    },
    "kernelspec": {
      "display_name": "Python 3.6 - AzureML",
      "language": "python",
      "name": "python3-azureml"
    },
    "language_info": {
      "codemirror_mode": {
        "name": "ipython",
        "version": 3
      },
      "file_extension": ".py",
      "mimetype": "text/x-python",
      "name": "python",
      "nbconvert_exporter": "python",
      "pygments_lexer": "ipython3",
      "version": "3.6.9"
    },
    "microsoft": {
      "host": {
        "AzureML": {
          "notebookHasBeenCompleted": true
        }
      }
    },
    "nteract": {
      "version": "nteract-front-end@1.0.0"
    }
  },
  "nbformat": 4,
  "nbformat_minor": 5
}
