{
 "cells": [
  {
   "cell_type": "markdown",
   "source": [
    "## Gradient Boosting 回帰モデルの SHAP による説明\n",
    "自動車の価格を予測する回帰モデルを Gradient Boosting を用いて構築し、Interpret-community の SHAPベースの explainer を用いて説明 (グローバル、ローカル) を行います。"
   ],
   "metadata": {}
  },
  {
   "cell_type": "markdown",
   "source": [
    "### 0. 事前準備\n",
    "- Jupyter Kernel :  `rai-shap` を選択する。\n",
    "    - [0-Setup.ipynb](./0-Setup.ipynb) の手順に従い構築しておくこと。"
   ],
   "metadata": {}
  },
  {
   "cell_type": "markdown",
   "source": [
    "### 1. ライブラリ\n",
    "必要な Python ライブラリをインポートします。"
   ],
   "metadata": {}
  },
  {
   "cell_type": "code",
   "execution_count": null,
   "source": [
    "from sklearn.pipeline import Pipeline\n",
    "from sklearn.impute import SimpleImputer\n",
    "from sklearn.preprocessing import StandardScaler, OneHotEncoder\n",
    "from sklearn.ensemble import GradientBoostingRegressor"
   ],
   "outputs": [],
   "metadata": {}
  },
  {
   "cell_type": "code",
   "execution_count": null,
   "source": [
    "# interpret-community 関連\n",
    "from interpret.ext.blackbox import TabularExplainer\n",
    "from interpret_community.common.constants import ModelTask"
   ],
   "outputs": [],
   "metadata": {}
  },
  {
   "cell_type": "markdown",
   "source": [
    "### 2. データ準備\n",
    "自動車の価格に関するサンプルデータを Pandas DataFrame としてインポートします。"
   ],
   "metadata": {}
  },
  {
   "cell_type": "code",
   "execution_count": null,
   "source": [
    "import pandas as pd\n",
    "df = pd.read_csv(\"../data/automobile.csv\")\n",
    "df = df.dropna()"
   ],
   "outputs": [],
   "metadata": {}
  },
  {
   "cell_type": "code",
   "execution_count": null,
   "source": [
    "label = \"price\""
   ],
   "outputs": [],
   "metadata": {}
  },
  {
   "cell_type": "code",
   "execution_count": null,
   "source": [
    "df.head()"
   ],
   "outputs": [],
   "metadata": {}
  },
  {
   "cell_type": "code",
   "execution_count": null,
   "source": [
    "df.describe()"
   ],
   "outputs": [],
   "metadata": {}
  },
  {
   "cell_type": "code",
   "execution_count": null,
   "source": [
    "# 学習データとテストデータに分割\n",
    "from sklearn.model_selection import train_test_split\n",
    "X_train, X_test, y_train, y_test = train_test_split(df.drop([label], axis=1), df[label], test_size=0.5, random_state=1234)"
   ],
   "outputs": [],
   "metadata": {}
  },
  {
   "cell_type": "markdown",
   "source": [
    "### 3. 勾配ブースティングによるモデル構築"
   ],
   "metadata": {}
  },
  {
   "cell_type": "markdown",
   "source": [
    "#### scikit learn パイプラインの作成"
   ],
   "metadata": {}
  },
  {
   "cell_type": "code",
   "execution_count": null,
   "source": [
    "# カテゴリー変数と数値変数のリスト (numerical, categorical)\n",
    "categorical = []\n",
    "for col, value in X_test.iteritems():\n",
    "    if value.dtype == 'object':\n",
    "        categorical.append(col)\n",
    "        \n",
    "numerical = X_test.columns.difference(categorical).tolist()"
   ],
   "outputs": [],
   "metadata": {}
  },
  {
   "cell_type": "code",
   "execution_count": null,
   "source": [
    "# 特徴量の一覧\n",
    "features = X_train.columns.tolist()"
   ],
   "outputs": [],
   "metadata": {}
  },
  {
   "cell_type": "code",
   "execution_count": null,
   "source": [
    "from sklearn.compose import ColumnTransformer\n",
    "\n",
    "# 前処理パイプライン\n",
    "numeric_transformer = Pipeline(steps=[\n",
    "    ('imputer', SimpleImputer(strategy='median')),\n",
    "    ('scaler', StandardScaler())\n",
    "    ])\n",
    "\n",
    "categorical_transformer = Pipeline(steps=[\n",
    "    ('imputer', SimpleImputer(strategy='constant', fill_value='missing')),\n",
    "    ('onehot', OneHotEncoder(handle_unknown='ignore'))])\n",
    "\n",
    "transformations = ColumnTransformer(\n",
    "    transformers=[\n",
    "        ('num', numeric_transformer, numerical),\n",
    "        ('cat', categorical_transformer, categorical)])\n"
   ],
   "outputs": [],
   "metadata": {}
  },
  {
   "cell_type": "code",
   "execution_count": null,
   "source": [
    "# モデル学習パイプライン\n",
    "reg = GradientBoostingRegressor(n_estimators=20, max_depth=10,\n",
    "                                learning_rate=0.1, loss='huber',\n",
    "                                random_state=1234)"
   ],
   "outputs": [],
   "metadata": {}
  },
  {
   "cell_type": "code",
   "execution_count": null,
   "source": [
    "# 全体のパイプライン\n",
    "clf = Pipeline(steps=[('preprocessor', transformations),\n",
    "                      ('regression', reg)])"
   ],
   "outputs": [],
   "metadata": {}
  },
  {
   "cell_type": "markdown",
   "source": [
    "#### モデル学習　"
   ],
   "metadata": {}
  },
  {
   "cell_type": "code",
   "execution_count": null,
   "source": [
    "model = clf.fit(X_train, y_train)"
   ],
   "outputs": [],
   "metadata": {}
  },
  {
   "cell_type": "markdown",
   "source": [
    "### 4. モデル説明 (SHAP Tabular Explainer)\n",
    "interpret-community の `TabularExplainer` を用いて explainer を生成します。TabularExplainer は最適な SHAP Explainer を自動で選択します。"
   ],
   "metadata": {}
  },
  {
   "cell_type": "code",
   "execution_count": null,
   "source": [
    "explainer = TabularExplainer(model.steps[-1][1], \n",
    "                             initialization_examples=X_train,\n",
    "                             features=features,\n",
    "                             transformations=transformations,\n",
    "                             model_task = ModelTask.Regression)"
   ],
   "outputs": [],
   "metadata": {}
  },
  {
   "cell_type": "markdown",
   "source": [
    "#### グローバル (大局的) 解釈"
   ],
   "metadata": {}
  },
  {
   "cell_type": "code",
   "execution_count": null,
   "source": [
    "# データの母集団を引数に渡す。テストデータ X_test でも可。\n",
    "global_explanation = explainer.explain_global(X_train)"
   ],
   "outputs": [],
   "metadata": {}
  },
  {
   "cell_type": "code",
   "execution_count": null,
   "source": [
    "# 変数重要度 (降順)\n",
    "global_explanation.get_feature_importance_dict()"
   ],
   "outputs": [],
   "metadata": {}
  },
  {
   "cell_type": "markdown",
   "source": [
    "#### ローカル (局所的) 解釈"
   ],
   "metadata": {}
  },
  {
   "cell_type": "code",
   "execution_count": null,
   "source": [
    "# X_test の 3 番目のデータについての予測値を解釈\n",
    "num = 3\n",
    "local_explanation_filtered = explainer.explain_local(X_test[num:num+1])"
   ],
   "outputs": [],
   "metadata": {}
  },
  {
   "cell_type": "code",
   "execution_count": null,
   "source": [
    "sorted_local_importance_names = local_explanation_filtered.get_ranked_local_names()\n",
    "sorted_local_importance_values = local_explanation_filtered.get_ranked_local_values()"
   ],
   "outputs": [],
   "metadata": {}
  },
  {
   "cell_type": "code",
   "execution_count": null,
   "source": [
    "# 変数重要度 (降順)\n",
    "print(sorted_local_importance_names, sorted_local_importance_values)"
   ],
   "outputs": [],
   "metadata": {}
  },
  {
   "cell_type": "markdown",
   "source": [
    "#### ダッシュボード可視化"
   ],
   "metadata": {}
  },
  {
   "cell_type": "code",
   "execution_count": null,
   "source": [
    "from raiwidgets import ExplanationDashboard\n",
    "ExplanationDashboard(global_explanation, model, dataset=X_train, true_y=y_train.to_numpy())"
   ],
   "outputs": [],
   "metadata": {}
  },
  {
   "cell_type": "code",
   "execution_count": null,
   "source": [
    "ExplanationDashboard(explainer.explain_local(X_test), \n",
    "                     model, dataset=X_test, true_y=y_test.to_numpy())"
   ],
   "outputs": [],
   "metadata": {}
  },
  {
   "cell_type": "markdown",
   "source": [
    "### 5. モデル誤差分析 (Error Analysis)\n",
    "[Error Analysis](https://erroranalysis.ai/) を用いてモデルの誤差を分析し、特に誤差が大きいコホートを特定します。"
   ],
   "metadata": {}
  },
  {
   "cell_type": "code",
   "execution_count": null,
   "source": [
    "from raiwidgets import ErrorAnalysisDashboard"
   ],
   "outputs": [],
   "metadata": {}
  },
  {
   "cell_type": "code",
   "execution_count": null,
   "source": [
    "local_explanation = explainer.explain_local(X_test)"
   ],
   "outputs": [],
   "metadata": {}
  },
  {
   "cell_type": "code",
   "execution_count": null,
   "source": [
    "ErrorAnalysisDashboard(local_explanation, model,\n",
    "                       dataset=X_test, \n",
    "                       true_y=y_test.to_numpy(),\n",
    "                       model_task=\"regression\",\n",
    "                       categorical_features=categorical,\n",
    "                       true_y_dataset=y_test.to_numpy(),\n",
    "                       max_depth=10)"
   ],
   "outputs": [],
   "metadata": {}
  },
  {
   "cell_type": "code",
   "execution_count": null,
   "source": [],
   "outputs": [],
   "metadata": {}
  },
  {
   "cell_type": "code",
   "execution_count": null,
   "source": [],
   "outputs": [],
   "metadata": {}
  }
 ],
 "metadata": {
  "kernelspec": {
   "display_name": "rai-shap",
   "language": "python",
   "name": "rai-shap"
  },
  "language_info": {
   "codemirror_mode": {
    "name": "ipython",
    "version": 3
   },
   "file_extension": ".py",
   "mimetype": "text/x-python",
   "name": "python",
   "nbconvert_exporter": "python",
   "pygments_lexer": "ipython3",
   "version": "3.8.10"
  }
 },
 "nbformat": 4,
 "nbformat_minor": 4
}