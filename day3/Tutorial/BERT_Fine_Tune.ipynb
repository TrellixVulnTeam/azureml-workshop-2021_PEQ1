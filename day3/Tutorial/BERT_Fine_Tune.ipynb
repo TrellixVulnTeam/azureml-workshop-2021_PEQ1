{
 "cells": [
  {
   "cell_type": "markdown",
   "source": [
    "# BERT Fine-Tuning\n",
    "PyTorch Lightning を用いて BERT モデルの Fine Tuning を行います。本ノートブックは簡易的に学習データのみを用いています。"
   ],
   "metadata": {}
  },
  {
   "cell_type": "markdown",
   "source": [
    "## 必要なライブラリのインポート"
   ],
   "metadata": {}
  },
  {
   "cell_type": "code",
   "execution_count": null,
   "source": [
    "import pandas as pd\n",
    "from sklearn.model_selection import train_test_split\n",
    "from src import datasets, models\n",
    "\n",
    "import torch\n",
    "from torch.utils.data import DataLoader\n",
    "import pytorch_lightning as pl\n",
    "\n",
    "import numpy as np\n",
    "\n",
    "pl.seed_everything(1234)\n",
    "torch.manual_seed(1234)\n",
    "np.random.seed(1234)"
   ],
   "outputs": [],
   "metadata": {
    "gather": {
     "logged": 1619766078354
    }
   }
  },
  {
   "cell_type": "code",
   "execution_count": null,
   "source": [
    "# CPU or GPU の検知\n",
    "device = torch.device(\"cuda:0\" if torch.cuda.is_available() else \"cpu\")\n",
    "print(device)"
   ],
   "outputs": [],
   "metadata": {
    "gather": {
     "logged": 1619766078417
    }
   }
  },
  {
   "cell_type": "markdown",
   "source": [
    "## データ準備\n",
    "加工済みの Livedoor ニュースのデータを読み込み、学習データと検証データに分割します。"
   ],
   "metadata": {}
  },
  {
   "cell_type": "code",
   "execution_count": null,
   "source": [
    "df = pd.read_csv(\"../data/processed/livedoor.tsv\", delimiter='\\t')\n",
    "df = df.dropna()\n",
    "df.head()"
   ],
   "outputs": [],
   "metadata": {
    "gather": {
     "logged": 1619766078727
    }
   }
  },
  {
   "cell_type": "code",
   "execution_count": null,
   "source": [
    "X_train, X_test = train_test_split(df, test_size=0.2, stratify=df['label_index'])\n",
    "X_train.reset_index(drop=True, inplace=True)\n",
    "X_test.reset_index(drop=True, inplace=True)"
   ],
   "outputs": [],
   "metadata": {
    "gather": {
     "logged": 1619766078843
    }
   }
  },
  {
   "cell_type": "code",
   "execution_count": null,
   "source": [
    "X_train.to_csv(\"../data/processed/livedoor-train.tsv\", sep='\\t', index=False)\n",
    "X_train.to_csv(\"../data/processed/livedoor-test.tsv\", sep='\\t', index=False)"
   ],
   "outputs": [],
   "metadata": {}
  },
  {
   "cell_type": "markdown",
   "source": [
    "PyTorch の Data Loader を定義します。"
   ],
   "metadata": {}
  },
  {
   "cell_type": "code",
   "execution_count": null,
   "source": [
    "train_dataset = datasets.LivedoorDataset(X_train)\n",
    "train_loader = DataLoader(train_dataset, batch_size=32, shuffle=True)"
   ],
   "outputs": [],
   "metadata": {
    "gather": {
     "logged": 1619766081789
    }
   }
  },
  {
   "cell_type": "markdown",
   "source": [
    "## Fine Tuning\n",
    "BERT の Fine Tuning を実施します。"
   ],
   "metadata": {}
  },
  {
   "cell_type": "code",
   "execution_count": null,
   "source": [
    "bert_model = models.LitBert()\n",
    "\n",
    "# fix param\n",
    "for param in bert_model.bert.bert.parameters():\n",
    "    param.requires_grad = False\n",
    "\n",
    "bert_model.to(device)\n",
    "if device.type == \"cpu\":\n",
    "    trainer = pl.Trainer(default_root_dir='pl-model', max_epochs=1)\n",
    "else:\n",
    "    trainer = pl.Trainer(gpus=1, default_root_dir='pl-model', max_epochs=30)"
   ],
   "outputs": [],
   "metadata": {
    "gather": {
     "logged": 1619768011572
    }
   }
  },
  {
   "cell_type": "code",
   "execution_count": null,
   "source": [
    "%%time\n",
    "trainer.fit(bert_model, train_loader)"
   ],
   "outputs": [],
   "metadata": {
    "gather": {
     "logged": 1619768885018
    },
    "nteract": {
     "transient": {
      "deleting": false
     }
    }
   }
  },
  {
   "cell_type": "code",
   "execution_count": null,
   "source": [
    "trainer.save_checkpoint(\"../models/bert-livedoor-epoch01.ckpt\")"
   ],
   "outputs": [],
   "metadata": {}
  },
  {
   "cell_type": "code",
   "execution_count": null,
   "source": [],
   "outputs": [],
   "metadata": {}
  }
 ],
 "metadata": {
  "kernelspec": {
   "display_name": "bert_env",
   "language": "python",
   "name": "bert_env"
  },
  "language_info": {
   "codemirror_mode": {
    "name": "ipython",
    "version": 3
   },
   "file_extension": ".py",
   "mimetype": "text/x-python",
   "name": "python",
   "nbconvert_exporter": "python",
   "pygments_lexer": "ipython3",
   "version": "3.6.13"
  }
 },
 "nbformat": 4,
 "nbformat_minor": 4
}