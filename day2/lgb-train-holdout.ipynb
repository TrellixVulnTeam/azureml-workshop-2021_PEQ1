{
 "cells": [
  {
   "cell_type": "markdown",
   "metadata": {},
   "source": [
    "# LightGBM Model Train - Holdout\n",
    "LightGMB を利用してモデル学習します。本ノートブックでは Azure Machine Learning Python SDK は使っていません。"
   ]
  },
  {
   "cell_type": "markdown",
   "metadata": {},
   "source": [
    "## Prerequisites\n",
    "必要なライブラリをインポートします。"
   ]
  },
  {
   "cell_type": "code",
   "execution_count": 9,
   "metadata": {},
   "outputs": [],
   "source": [
    "import lightgbm as lgb\n",
    "from sklearn.datasets import load_boston\n",
    "from sklearn.model_selection import train_test_split\n",
    "import pandas as pd\n",
    "import joblib\n",
    "import os"
   ]
  },
  {
   "cell_type": "markdown",
   "metadata": {},
   "source": [
    "## Data Preparation\n",
    "ボストンの住宅価格のサンプルデータをロードします。"
   ]
  },
  {
   "cell_type": "code",
   "execution_count": 10,
   "metadata": {},
   "outputs": [],
   "source": [
    "boston = load_boston()\n",
    "df = pd.DataFrame(boston.data, columns=boston.feature_names)\n",
    "df['target'] = boston.target"
   ]
  },
  {
   "cell_type": "markdown",
   "metadata": {},
   "source": [
    "## Split Data\n",
    "データをインポートし、説明変数と目的変数に分割します。"
   ]
  },
  {
   "cell_type": "code",
   "execution_count": 11,
   "metadata": {},
   "outputs": [],
   "source": [
    "X, y = df.drop(['target'], axis=1), df['target']"
   ]
  },
  {
   "cell_type": "code",
   "execution_count": 12,
   "metadata": {},
   "outputs": [],
   "source": [
    "# データ分割\n",
    "X_train, X_test, y_train, y_test = train_test_split(X, y, \n",
    "                                                    test_size = 0.2, \n",
    "                                                    random_state=0)"
   ]
  },
  {
   "cell_type": "markdown",
   "metadata": {},
   "source": [
    "## Model Training\n",
    "LightGBM を用いて分類モデルを作成します。"
   ]
  },
  {
   "cell_type": "code",
   "execution_count": 13,
   "metadata": {},
   "outputs": [],
   "source": [
    "## Parameter list (https://lightgbm.readthedocs.io/en/latest/Parameters.html)\n",
    "params = {\n",
    "    'boosting_type': 'gbdt',\n",
    "    'learning_rate': 0.15,\n",
    "    'n_estimators':1000,\n",
    "    'colsample_bytree': 1.0,\n",
    "    'reg_alpha': 1e-3,\n",
    "    'reg_lambda': 1e-3,\n",
    "    'seed': 1234,\n",
    "}"
   ]
  },
  {
   "cell_type": "code",
   "execution_count": 14,
   "metadata": {},
   "outputs": [],
   "source": [
    "# callback\n",
    "def log_evaluation(run):\n",
    "    def callback(env):\n",
    "        for data_name, eval_name, result, _ in env.evaluation_result_list:\n",
    "            key = f'{data_name}+{eval_name}'\n",
    "            dict[key] = result\n",
    "    return callback"
   ]
  },
  {
   "cell_type": "code",
   "execution_count": 15,
   "metadata": {},
   "outputs": [
    {
     "name": "stdout",
     "output_type": "stream",
     "text": [
      "Training until validation scores don't improve for 100 rounds\n",
      "[50]\ttrain's l2: 2.52896\ttest's l2: 24.6795\n",
      "[100]\ttrain's l2: 1.03211\ttest's l2: 23.5957\n",
      "[150]\ttrain's l2: 0.463691\ttest's l2: 23.1745\n",
      "[200]\ttrain's l2: 0.232365\ttest's l2: 23.2039\n",
      "Early stopping, best iteration is:\n",
      "[113]\ttrain's l2: 0.79494\ttest's l2: 22.952\n"
     ]
    }
   ],
   "source": [
    "clf = lgb.LGBMRegressor(**params)\n",
    "\n",
    "dict = {}\n",
    "\n",
    "result = clf.fit(X_train, y_train, \n",
    "                   verbose=50, \n",
    "                   #categorical_feature=X_cat.columns.tolist(), \n",
    "                   eval_set=[(X_train, y_train), (X_test, y_test)],\n",
    "                   eval_names=['train', 'test'],\n",
    "                   early_stopping_rounds=100,\n",
    "                   callbacks=[log_evaluation(dict)]\n",
    "                  )"
   ]
  },
  {
   "cell_type": "markdown",
   "metadata": {},
   "source": [
    "## Model Save\n",
    "モデルを pickle に変換します。"
   ]
  },
  {
   "cell_type": "code",
   "execution_count": 16,
   "metadata": {},
   "outputs": [],
   "source": [
    "model_file = 'lgb.pkl'\n",
    "OUTPUT_DIR = 'model'"
   ]
  },
  {
   "cell_type": "code",
   "execution_count": 17,
   "metadata": {},
   "outputs": [],
   "source": [
    "os.makedirs(OUTPUT_DIR, exist_ok=True)"
   ]
  },
  {
   "cell_type": "code",
   "execution_count": 18,
   "metadata": {},
   "outputs": [],
   "source": [
    "with open(os.path.join(OUTPUT_DIR, model_file), 'wb') as f:\n",
    "    joblib.dump(clf, f)"
   ]
  }
 ],
 "metadata": {
  "kernelspec": {
   "display_name": "Python 3.6.13 64-bit ('lgbenv': conda)",
   "name": "python3613jvsc74a57bd04f0c5710e67701488c51551b5e4c0a1adcd19c030206c281f9e8ef52cd7778e1"
  },
  "language_info": {
   "codemirror_mode": {
    "name": "ipython",
    "version": 3
   },
   "file_extension": ".py",
   "mimetype": "text/x-python",
   "name": "python",
   "nbconvert_exporter": "python",
   "pygments_lexer": "ipython3",
   "version": "3.6.13"
  },
  "orig_nbformat": 3
 },
 "nbformat": 4,
 "nbformat_minor": 4
}