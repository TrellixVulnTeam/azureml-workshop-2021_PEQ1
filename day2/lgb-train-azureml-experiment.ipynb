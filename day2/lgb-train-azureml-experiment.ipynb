{
 "cells": [
  {
   "cell_type": "markdown",
   "metadata": {},
   "source": [
    "# LightGBM Model Train - Experiment Logging\n",
    "LightGBM を利用してモデル学習します。本ノートブックでは Azure Machine Learning Python SDK を利用してメトリックの追跡を行います。"
   ]
  },
  {
   "cell_type": "markdown",
   "metadata": {},
   "source": [
    "## Prerequisites\n",
    "必要なライブラリをインポートします。"
   ]
  },
  {
   "cell_type": "code",
   "execution_count": null,
   "metadata": {},
   "outputs": [],
   "source": [
    "import lightgbm as lgb\n",
    "from sklearn.datasets import load_boston\n",
    "from sklearn.model_selection import train_test_split\n",
    "import pandas as pd\n",
    "import joblib\n",
    "import os"
   ]
  },
  {
   "cell_type": "markdown",
   "metadata": {},
   "source": [
    "## Initialize Workspace\n",
    "Azure Machine Learning Workspace へ接続します。"
   ]
  },
  {
   "cell_type": "code",
   "execution_count": null,
   "metadata": {},
   "outputs": [],
   "source": [
    "from azureml.core import Workspace, Experiment, Dataset, Datastore\n",
    "ws = Workspace.from_config()\n",
    "print(ws.name, ws.resource_group, ws.location, ws.subscription_id, sep='\\n')"
   ]
  },
  {
   "cell_type": "markdown",
   "metadata": {},
   "source": [
    "## Data Preparation\n",
    "ボストンの住宅価格のサンプルデータをロードします。"
   ]
  },
  {
   "cell_type": "code",
   "execution_count": null,
   "metadata": {},
   "outputs": [],
   "source": [
    "boston = load_boston()\n",
    "df = pd.DataFrame(boston.data, columns=boston.feature_names)\n",
    "df['target'] = boston.target"
   ]
  },
  {
   "cell_type": "code",
   "execution_count": null,
   "metadata": {},
   "outputs": [],
   "source": [
    "#df = Dataset.get_by_name(ws, \"boston\")"
   ]
  },
  {
   "cell_type": "code",
   "execution_count": null,
   "metadata": {},
   "outputs": [],
   "source": [
    "DATA_DIR = 'data'\n",
    "os.makedirs(DATA_DIR, exist_ok=True)\n",
    "df.to_csv(os.path.join(DATA_DIR, 'boston.csv'), header=True, index=False)"
   ]
  },
  {
   "cell_type": "markdown",
   "metadata": {},
   "source": [
    "##  Register Dataset\n",
    "サンプルデータを Azure ML Dataset として登録します。"
   ]
  },
  {
   "cell_type": "code",
   "execution_count": null,
   "metadata": {},
   "outputs": [],
   "source": [
    "# Azure ML デフォルトの Datastore\n",
    "datastore = ws.get_default_datastore()\n",
    "\n",
    "# upload the local file from src_dir to the target_path in datastore\n",
    "datastore.upload(src_dir=DATA_DIR, target_path='data', overwrite=True)\n",
    "\n",
    "# create a dataset referencing the cloud location\n",
    "dataset = Dataset.Tabular.from_delimited_files(path = [(datastore, ('data/boston.csv'))])"
   ]
  },
  {
   "cell_type": "code",
   "execution_count": null,
   "metadata": {},
   "outputs": [],
   "source": [
    "# register as dataset\n",
    "dataset.register(ws, \n",
    "                 name='boston', \n",
    "                 create_new_version=True\n",
    "                )"
   ]
  },
  {
   "cell_type": "markdown",
   "metadata": {},
   "source": [
    "## Split Data\n",
    "データをインポートし、説明変数と目的変数に分割します。"
   ]
  },
  {
   "cell_type": "code",
   "execution_count": null,
   "metadata": {},
   "outputs": [],
   "source": [
    "# Azure ML Dataset からデータを読み込み\n",
    "boston_dataset = Dataset.get_by_name(ws, name='boston')\n",
    "df = boston_dataset.to_pandas_dataframe()"
   ]
  },
  {
   "cell_type": "code",
   "execution_count": null,
   "metadata": {},
   "outputs": [],
   "source": [
    "df.head()"
   ]
  },
  {
   "cell_type": "code",
   "execution_count": null,
   "metadata": {},
   "outputs": [],
   "source": [
    "X, y = df.drop(['target'], axis=1), df['target']"
   ]
  },
  {
   "cell_type": "code",
   "execution_count": null,
   "metadata": {},
   "outputs": [],
   "source": [
    "# データ分割\n",
    "X_train, X_test, y_train, y_test = train_test_split(X, y, \n",
    "                                                    test_size = 0.2, \n",
    "                                                    random_state=0)"
   ]
  },
  {
   "cell_type": "markdown",
   "metadata": {},
   "source": [
    "## Model Training\n",
    "LightGBM を用いて分類モデルを作成します。"
   ]
  },
  {
   "cell_type": "code",
   "execution_count": null,
   "metadata": {},
   "outputs": [],
   "source": [
    "# 実験名\n",
    "exp = Experiment(ws, \"lgb-aml-exp\")\n",
    "\n",
    "# メトリック取得開始\n",
    "run = exp.start_logging()"
   ]
  },
  {
   "cell_type": "code",
   "execution_count": null,
   "metadata": {},
   "outputs": [],
   "source": [
    "## Parameter list (https://lightgbm.readthedocs.io/en/latest/Parameters.html)\n",
    "params = {\n",
    "    'boosting_type': 'gbdt',\n",
    "    'learning_rate': 0.15,\n",
    "    'n_estimators':1000,\n",
    "    'colsample_bytree': 1.0,\n",
    "    'reg_alpha': 1e-3,\n",
    "    'reg_lambda': 1e-3,\n",
    "    'seed': 1234,\n",
    "}"
   ]
  },
  {
   "cell_type": "code",
   "execution_count": null,
   "metadata": {},
   "outputs": [],
   "source": [
    "# callback\n",
    "def log_evaluation(run):\n",
    "    def callback(env):\n",
    "        for data_name, eval_name, result, _ in env.evaluation_result_list:\n",
    "            run.log(f'{data_name}+{eval_name}', result)\n",
    "    return callback"
   ]
  },
  {
   "cell_type": "code",
   "execution_count": null,
   "metadata": {},
   "outputs": [],
   "source": [
    "clf =lgb.LGBMRegressor(**params)\n",
    "\n",
    "result = clf.fit(X_train, y_train, \n",
    "                   verbose=50, \n",
    "                   #categorical_feature=X_cat.columns.tolist(), \n",
    "                   eval_set=[(X_train, y_train), (X_test, y_test)],\n",
    "                   eval_names=['train', 'test'],\n",
    "                   early_stopping_rounds=100,\n",
    "                   callbacks=[log_evaluation(run)]\n",
    "                  )\n"
   ]
  },
  {
   "cell_type": "code",
   "execution_count": null,
   "metadata": {},
   "outputs": [],
   "source": [
    "train_l2 = result.evals_result_[\"train\"][\"l2\"][-1]\n",
    "test_l2 = result.evals_result_[\"test\"][\"l2\"][-1]\n",
    "run.log(\"train l2\", train_l2)\n",
    "run.log(\"test l2\", test_l2)"
   ]
  },
  {
   "cell_type": "code",
   "execution_count": null,
   "metadata": {},
   "outputs": [],
   "source": []
  },
  {
   "cell_type": "markdown",
   "metadata": {},
   "source": [
    "## Model Save & Register"
   ]
  },
  {
   "cell_type": "markdown",
   "metadata": {},
   "source": [
    "モデルを pickle ファイルに変換します。また Azure ML のモデルとして登録します。"
   ]
  },
  {
   "cell_type": "code",
   "execution_count": null,
   "metadata": {},
   "outputs": [],
   "source": [
    "MODEL_DIR = 'model'\n",
    "os.makedirs(MODEL_DIR, exist_ok=True)"
   ]
  },
  {
   "cell_type": "code",
   "execution_count": null,
   "metadata": {},
   "outputs": [],
   "source": [
    "model_file = 'lgb-aml.pkl'\n",
    "with open(os.path.join(MODEL_DIR, model_file), 'wb') as f:\n",
    "    joblib.dump(result, f)"
   ]
  },
  {
   "cell_type": "code",
   "execution_count": null,
   "metadata": {},
   "outputs": [],
   "source": [
    "run.upload_files(names=['model/'+model_file],\n",
    "                       paths=['model/'+model_file])\n",
    "run.register_model(\n",
    "    model_name='lgb-aml',\n",
    "    model_path='model',\n",
    "    datasets =[('training data', boston_dataset)]\n",
    ")"
   ]
  },
  {
   "cell_type": "code",
   "execution_count": null,
   "metadata": {},
   "outputs": [],
   "source": [
    "# メトリック追跡完了\n",
    "run.complete()"
   ]
  },
  {
   "cell_type": "code",
   "execution_count": null,
   "metadata": {},
   "outputs": [],
   "source": [
    "run"
   ]
  },
  {
   "cell_type": "code",
   "execution_count": null,
   "metadata": {},
   "outputs": [],
   "source": []
  }
 ],
 "metadata": {
  "kernelspec": {
   "display_name": "Python 3.6.13 64-bit ('lgbenv': conda)",
   "name": "python3613jvsc74a57bd0f36b601337d914f88759dcfabe69a136a70f7faa566bc2d94892e5b62b6fabfe"
  },
  "language_info": {
   "codemirror_mode": {
    "name": "ipython",
    "version": 3
   },
   "file_extension": ".py",
   "mimetype": "text/x-python",
   "name": "python",
   "nbconvert_exporter": "python",
   "pygments_lexer": "ipython3",
   "version": "3.6.13"
  },
  "orig_nbformat": 3
 },
 "nbformat": 4,
 "nbformat_minor": 4
}